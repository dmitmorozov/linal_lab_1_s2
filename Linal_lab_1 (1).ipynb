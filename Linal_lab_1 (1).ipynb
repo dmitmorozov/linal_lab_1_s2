{
  "nbformat": 4,
  "nbformat_minor": 0,
  "metadata": {
    "colab": {
      "provenance": [],
      "toc_visible": true
    },
    "kernelspec": {
      "name": "python3",
      "display_name": "Python 3"
    },
    "language_info": {
      "name": "python"
    }
  },
  "cells": [
    {
      "cell_type": "markdown",
      "source": [
        "#Лабораторная работа"
      ],
      "metadata": {
        "id": "pDxex57I3h1L"
      }
    },
    {
      "cell_type": "markdown",
      "source": [
        "Лабораторная работа №1 по линейной алгебре и обработке данных\\\n",
        "Работу выполнили студенты:\\\n",
        "J3112 - Морозов Дмитрий Александрович ИСУ: 466761\\\n",
        "J3112 - Фёдоров Егор Павлович ИСУ: 467866"
      ],
      "metadata": {
        "id": "YUJHsSB-fFCf"
      }
    },
    {
      "cell_type": "markdown",
      "source": [],
      "metadata": {
        "id": "m8q92Ij633cc"
      }
    },
    {
      "cell_type": "markdown",
      "source": [],
      "metadata": {
        "id": "cUKl2N4CidVK"
      }
    },
    {
      "cell_type": "markdown",
      "source": [
        "#Теоретическая часть"
      ],
      "metadata": {
        "id": "XL4jE-Yo34FS"
      }
    },
    {
      "cell_type": "markdown",
      "source": [
        "#Практическая часть"
      ],
      "metadata": {
        "id": "u_WI-2pq38V1"
      }
    },
    {
      "cell_type": "markdown",
      "source": [
        "##Создание класса матриц"
      ],
      "metadata": {
        "id": "_0-XIEfA533P"
      }
    },
    {
      "cell_type": "markdown",
      "source": [
        "Для выполнения лабораторной работы был реализован класс для хранения матриц. Объект класса хранит в себе матрицу в виде двумерного массива, а также размеры матрицы m на n.\\\n",
        "Были написаны функции для сложения, умножения (на скаляр и другую матрицу) и транспонирования матриц"
      ],
      "metadata": {
        "id": "jcZ9yJGtgBEm"
      }
    },
    {
      "cell_type": "code",
      "source": [
        "import typing as tp\n",
        "from typing import List, Tuple\n",
        "import math\n",
        "\n",
        "\n",
        "class Matrix:\n",
        "    def __init__(self, matrix, m, n):\n",
        "        self.matrix = matrix\n",
        "        self.m = m\n",
        "        self.n = n\n",
        "\n",
        "\n",
        "def scalar_mult(A, alpha):\n",
        "    new_matrix = [[alpha * A.matrix[i][j] for j in range(A.n)]for i in range(A.m)]\n",
        "    return Matrix(new_matrix, A.m, A.n)\n",
        "\n",
        "def additive(A, B):\n",
        "    if A.m == B.m and A.n == B.n:\n",
        "        new_matrix = [[B.matrix[i][j] + A.matrix[i][j] for j in range(A.n)] for i in range(A.m)]\n",
        "        return Matrix(new_matrix, A.m, A.n)\n",
        "    return None\n",
        "\n",
        "def T(A):\n",
        "    new_matrix = [[A.matrix[j][i] for j in range(A.m)] for i in range(A.n)]\n",
        "    return Matrix(new_matrix, A.n, A.m)\n",
        "\n",
        "def multiplicative(A, B):\n",
        "    if A.n == B.m:\n",
        "        result_matrix = []\n",
        "        for i in range(A.m):\n",
        "            current_row = []\n",
        "            for j in range(B.n):\n",
        "                current_element = 0\n",
        "                for g in range(A.n):\n",
        "                    current_element += A.matrix[i][g] * B.matrix[g][j]\n",
        "                current_row.append(current_element)\n",
        "            result_matrix.append(current_row)  # Добавляем строку после обработки всех столбцов\n",
        "        return Matrix(result_matrix, A.m, B.n)\n",
        "    return None\n"
      ],
      "metadata": {
        "id": "hfWE2PXh56Kv"
      },
      "execution_count": 107,
      "outputs": []
    },
    {
      "cell_type": "markdown",
      "source": [
        "##Easy level\n"
      ],
      "metadata": {
        "id": "X2b376Cv4M6P"
      }
    },
    {
      "cell_type": "markdown",
      "source": [
        "###Метод Гаусса"
      ],
      "metadata": {
        "id": "WrGyqSq44Qb7"
      }
    },
    {
      "cell_type": "markdown",
      "source": [
        "Метод Гаусса — метод для решения системы линейных уравнений $Ax=b$\\\n",
        "Алгорит делится на два этапа:\n",
        "Прямой ход (приведение к верхнетреугольному виду), где мы\n",
        "последовательно «зануляем» элементы под главной диагональю, используя элементарные операции над строками:\n",
        "Выбираем в текущем столбце ненулевой (оптимально — максимальный по модулю) пивот;\n",
        "Делим строку-«маятник» на значение пивота, чтобы на диагонали были 1;\n",
        "Вычитаем из каждой нижележащей строки нормированную строку, обнуляя поддиагональные элементы.\n",
        "Получив ступенчатую матрицу делаем обратную подстановку:\\\n",
        "Начинаем с последнего уравнения (где только одна невырожденная переменная) и поочерёдно выражаем каждую\n",
        "$x_n = \\frac{b_n}{A_{nn}}, x_i = \\frac{b_i - \\sum_{j=i+1}^{n} A_{ij} \\cdot x_j}{A_{ii}}\n",
        "$\n"
      ],
      "metadata": {
        "id": "UtfzDkZM-aht"
      }
    },
    {
      "cell_type": "code",
      "source": [
        "def gauss_solver(A:'Matrix', b:'Matrix') -> List['Matrix']:\n",
        "    \"\"\"\n",
        "    Вход:\n",
        "    A: матрица коэффициентов (n×n). Используется класс Matrix из предыдущей\n",
        "    лабораторной работы→\n",
        "    b: вектор правых частей (n×1)\n",
        "    Выход:\n",
        "    Raises:\n",
        "    list[Matrix]: список базисных векторов решения системы\n",
        "    ValueError: если система несовместна\n",
        "    \"\"\"\n",
        "\n",
        "\n",
        "    m = A.m\n",
        "    n = A.n\n",
        "\n",
        "    tol = 1e-6\n",
        "    m, n = A.m, A.n\n",
        "    # строим расширенную\n",
        "    ext = [A.matrix[i] + [b.matrix[i][0]] for i in range(m)]\n",
        "    # 1) динамический порог\n",
        "    max_mod = 0.0\n",
        "    for i in range(m):\n",
        "        for j in range(n + 1):\n",
        "            max_mod = max(max_mod, abs(ext[i][j]))\n",
        "    eps = tol * max(1.0, max_mod)\n",
        "\n",
        "\n",
        "    pivots = []\n",
        "    row = 0\n",
        "    for col in range(n):\n",
        "        for r in range(row, m):\n",
        "            if abs(ext[r][col]) > eps:\n",
        "                ext[row], ext[r] = ext[r], ext[row]\n",
        "                break\n",
        "        else:\n",
        "            continue\n",
        "\n",
        "        pivot_val = ext[row][col]\n",
        "        for j in range(col, n + 1):\n",
        "            ext[row][j] /= pivot_val\n",
        "\n",
        "        for i in range(row + 1, m):\n",
        "            coeff = ext[i][col]\n",
        "            for j in range(col, n + 1):\n",
        "                ext[i][j] -= coeff * ext[row][j]\n",
        "\n",
        "        pivots.append(col)\n",
        "        row += 1\n",
        "\n",
        "    for i in range(row, m):\n",
        "        if all(abs(ext[i][j]) < eps for j in range(n)) and abs(ext[i][n]) > eps:\n",
        "            raise ValueError(\"Система несовместна\")\n",
        "\n",
        "    free = [j for j in range(n) if j not in pivots]\n",
        "    x0 = [0.0] * n\n",
        "\n",
        "\n",
        "    for i in reversed(range(len(pivots))):\n",
        "        col = pivots[i]\n",
        "        val = ext[i][n]\n",
        "        for j in range(col + 1, n):\n",
        "            val -= ext[i][j] * x0[j]\n",
        "        x0[col] = val\n",
        "\n",
        "    sol = []\n",
        "    part = [[x0[i]] for i in range(n)]\n",
        "    sol.append(Matrix(part, n, 1))\n",
        "\n",
        "    for fr in free:\n",
        "        vec = [0.0] * n\n",
        "        vec[fr] = 1.0\n",
        "        for i in reversed(range(len(pivots))):\n",
        "            col = pivots[i]\n",
        "            val = 0.0\n",
        "            for j in range(col + 1, n):\n",
        "                val -= ext[i][j] * vec[j]\n",
        "            vec[col] = val\n",
        "        sol.append(Matrix([[vec[i]] for i in range(n)], n, 1))\n",
        "    return sol"
      ],
      "metadata": {
        "id": "eMPK2_1o9cP_"
      },
      "execution_count": 108,
      "outputs": []
    },
    {
      "cell_type": "markdown",
      "source": [
        "###Центрирование данных"
      ],
      "metadata": {
        "id": "8zqxB4VJ4gXC"
      }
    },
    {
      "cell_type": "markdown",
      "source": [
        "Сначала требуется выполнить центрирование данных:\\\n",
        "$X_c = X - mean(X)$\\\n",
        "После этого, средние значение для каждого столбца будет равно 0. Таким обарзом, теперь можно корректно посчитать матрицу ковариаций"
      ],
      "metadata": {
        "id": "-2kar9bki2OW"
      }
    },
    {
      "cell_type": "code",
      "source": [
        "def center_data(X:Matrix) -> Matrix:\n",
        "    \"\"\"\n",
        "    Вход: матрица данных X (n×m)\n",
        "    Выход: центрированная матрица X_centered (n×m)\n",
        "    \"\"\"\n",
        "    mean_vector = []\n",
        "    for i in range(X.n):\n",
        "        avg = 0\n",
        "        for j in range(X.m):\n",
        "            avg += X.matrix[j][i]\n",
        "        mean_vector.append(avg / (X.m))\n",
        "    mean_matrix = [mean_vector for i in range(X.m)]\n",
        "    return additive(X, scalar_mult(Matrix(mean_matrix, X.m, X.n), -1))"
      ],
      "metadata": {
        "id": "2tRwG-YA5-w1"
      },
      "execution_count": 109,
      "outputs": []
    },
    {
      "cell_type": "markdown",
      "source": [
        "###Матрица ковариаций"
      ],
      "metadata": {
        "id": "2NufVgOw4mDE"
      }
    },
    {
      "cell_type": "markdown",
      "source": [
        "Матрица ковариаций вычисляется по формуле:\\\n",
        "$C = \\frac{1}{n-1}X^TX$\\\n",
        "Она показывает, насколько два признака связаны между собой. В дальнейшем будет использовать собственные числа и соответствующие им собственные вектора данной матрицы для решения задачи"
      ],
      "metadata": {
        "id": "kIPx_KzckvPF"
      }
    },
    {
      "cell_type": "code",
      "source": [
        "def covariance_matrix(X_centered:'Matrix') ->'Matrix':\n",
        "    \"\"\"\n",
        "    Вход: центрированная матрица X_centered (n×m)\n",
        "    Выход: матрица ковариаций C (m×m)\n",
        "    \"\"\"\n",
        "    return scalar_mult(multiplicative(T(X_centered),X_centered), 1/(X_centered.m-1))"
      ],
      "metadata": {
        "id": "oROOBUkJ6CpG"
      },
      "execution_count": 110,
      "outputs": []
    },
    {
      "cell_type": "markdown",
      "source": [
        "##Normal level"
      ],
      "metadata": {
        "id": "J3GZyi4f4orC"
      }
    },
    {
      "cell_type": "markdown",
      "source": [
        "###Собственные значения матрицы"
      ],
      "metadata": {
        "id": "xrTMKcKy4sMl"
      }
    },
    {
      "cell_type": "markdown",
      "source": [
        "Для поиска собственных чисел с помощью бисекции был выбран следующий подход:\n",
        "* Сначала приводим матрицу ковариаций к трёхдиагональному виду с помощью метода Хаусхолдера\n",
        "* За счет такого вида можно удобно последовательно считать главные миноры матрицы\n",
        "* Это пригодится при вычислении последовательности Штурма (рекурентные многочлены). С её помощью можно определить количество собственных чисел $\\in [a, b]$\n",
        "* Благодаря ютим знаниям, можно применить метод бисекции, чтобы найти приближенные значения собственных чисел"
      ],
      "metadata": {
        "id": "S8R0PWOJAWxU"
      }
    },
    {
      "cell_type": "code",
      "source": [
        "def householder_tridiagonal(C: Matrix) -> Matrix:\n",
        "    \"\"\"\n",
        "    Приводит матрицу к трёхдиагональной форме методом Хаусхолдера\n",
        "    \"\"\"\n",
        "    m = C.m\n",
        "    T_matr = Matrix([row.copy() for row in C.matrix], m, m)\n",
        "\n",
        "    for k in range(m - 2):\n",
        "        x = [T_matr.matrix[i][k] for i in range(k + 1, m)]\n",
        "        norm = math.sqrt(sum(val ** 2 for val in x))\n",
        "        e = [0.0] * len(x)\n",
        "        e[0] = norm\n",
        "        u = [x[i] - e[i] for i in range(len(x))]\n",
        "        norm_u = math.sqrt(sum(val ** 2 for val in u))\n",
        "        if norm_u == 0:\n",
        "            continue\n",
        "        u = [val / norm_u for val in u]\n",
        "\n",
        "        #Q - матрица преобразований\n",
        "        Q = Matrix([[1.0 if i == j else 0.0 for j in range(m)] for i in range(m)], m, m)\n",
        "        for i in range(k + 1, m):\n",
        "            for j in range(k + 1, m):\n",
        "                Q.matrix[i][j] -= 2.0 * u[i - k - 1] * u[j - k - 1]\n",
        "\n",
        "        #T = Q * T * Q^T\n",
        "        QT = multiplicative(Q, T_matr)\n",
        "        T_matr = multiplicative(QT, T(Q))\n",
        "\n",
        "    return T_matr\n",
        "\n",
        "def count_eigenvalues(T: Matrix, lambda_val: float) -> int:\n",
        "    \"\"\"\n",
        "    Подсчёт числа собственных значений < lambda_val\n",
        "    \"\"\"\n",
        "    m = T.m\n",
        "    if m == 0:\n",
        "        return 0\n",
        "\n",
        "    p0 = 1.0\n",
        "    p1 = T.matrix[0][0] - lambda_val\n",
        "    sign_changes = 0\n",
        "\n",
        "    if p1 == 0:\n",
        "        p1 = 1e-10\n",
        "    if p0 * p1 < 0:\n",
        "        sign_changes += 1\n",
        "\n",
        "    for i in range(1, m):\n",
        "        beta = T.matrix[i - 1][i] if (i - 1 < T.n) else 0.0\n",
        "        p = (T.matrix[i][i] - lambda_val) * p1 - beta ** 2 * p0\n",
        "\n",
        "        if p == 0:\n",
        "            p = 1e-10\n",
        "\n",
        "        if p * p1 < 0 or (p == 0 and p1 != 0):\n",
        "          sign_changes += 1\n",
        "\n",
        "        p0, p1 = p1, p\n",
        "\n",
        "    return sign_changes\n",
        "\n",
        "\n",
        "def find_eigenvalues(C: Matrix, tol: float = 1e-6) -> list[float]:\n",
        "    \"\"\"\n",
        "    Вход:\n",
        "    C: матрица ковариаций (m×m)\n",
        "    tol: допустимая погрешность\n",
        "    Выход: список вещественных собственных значений\n",
        "    \"\"\"\n",
        "    # Приводим матрицу к трёхдиагональному виду\n",
        "    T = householder_tridiagonal(C)\n",
        "    m = T.m\n",
        "    if m == 0:\n",
        "        return []\n",
        "\n",
        "    # Определение границ\n",
        "    a = float('inf')\n",
        "    b = -float('inf')\n",
        "    for i in range(m):\n",
        "        radius = sum(abs(T.matrix[i][j]) for j in range(m) if j != i)\n",
        "        a = min(a, T.matrix[i][i] - radius)\n",
        "        b = max(b, T.matrix[i][i] + radius)\n",
        "\n",
        "    intervals = [(a - tol, b + tol)]\n",
        "    eigenvalues = []\n",
        "\n",
        "    while intervals:\n",
        "        low, high = intervals.pop()\n",
        "        if high - low < tol:\n",
        "            eigenvalues.append((low + high) / 2)\n",
        "            continue\n",
        "\n",
        "        mid = (low + high) / 2\n",
        "        c_low = count_eigenvalues(T, low)\n",
        "        c_high = count_eigenvalues(T, high)\n",
        "        c_mid = count_eigenvalues(T, mid)\n",
        "\n",
        "        # Добавляем интервалы, где есть собственные значения\n",
        "        if c_low < c_mid:\n",
        "            intervals.append((low, mid))\n",
        "        if c_mid < c_high:\n",
        "            intervals.append((mid, high))\n",
        "\n",
        "    eigenvalues = sorted(list(set(eigenvalues)))\n",
        "    return eigenvalues\n",
        "\n"
      ],
      "metadata": {
        "id": "rHAlbSuJ6GsD"
      },
      "execution_count": 150,
      "outputs": []
    },
    {
      "cell_type": "markdown",
      "source": [
        "###Собственные векторы матрицы"
      ],
      "metadata": {
        "id": "TM1jueFC4vJL"
      }
    },
    {
      "cell_type": "markdown",
      "source": [
        "Собственные вектора указываеют нам «главные оси» разброса данных. Проекция на эти векторы максимально сохраняет вариативность исходных признаков. А отсортировав собственные значения по убыванию, мы выбираем k векторов с наибольшими $\\lambda_i$. Проецируя данные на пространство, порождённое этими\n",
        "k векторами, получаем k-мерное представление, минимально теряющее информацию.\n",
        "\n",
        "Для каждого собственного значения λ решим однородную систему:\\\n",
        "$(C−λI)v=0$\n",
        "\n",
        "Задав вектор свободных членов $b = 0$, решаем СЛАУ получаем список векторов, исключив тривиальное решение, получим базис собственного подпространства.\n"
      ],
      "metadata": {
        "id": "ZLCicOHH-lih"
      }
    },
    {
      "cell_type": "code",
      "source": [
        "def find_eigenvectors(C:'Matrix', eigenvalues: List[float]) -> List['Matrix']:\n",
        "    \"\"\"\n",
        "    Вход:\n",
        "    C: матрица ковариаций (m×m)\n",
        "    eigenvalues: список собственных значений\n",
        "    Выход: список собственных векторов (каждый вектор - объект Matrix)\n",
        "    \"\"\"\n",
        "    vectors = []\n",
        "    I = Matrix([[1 if i == j else 0 for j in range(C.n)] for i in range(C.m)], C.m, C.n)\n",
        "    b = Matrix([[0] for i in range(C.m)], C.m, 1)\n",
        "    for i in eigenvalues:\n",
        "         vector = gauss_solver((additive(C,scalar_mult((scalar_mult(I,i)),-1))), b)\n",
        "         vectors.extend(vector[1:])\n",
        "    return vectors"
      ],
      "metadata": {
        "id": "hzAYeL7V6Pea"
      },
      "execution_count": 112,
      "outputs": []
    },
    {
      "cell_type": "markdown",
      "source": [
        "###Доля объясненной дисперсии"
      ],
      "metadata": {
        "id": "YxvM8isz4zo7"
      }
    },
    {
      "cell_type": "markdown",
      "source": [
        "Доля объясненной дисперсии показывает, какая часть данных была сохранена после уменьшения размерности Вычисляется по формуле:\\\n",
        "$\\gamma  = \\frac{Σ_{i=1}^k \\lambda_i}{Σ_{i=m}^k \\lambda_i}$"
      ],
      "metadata": {
        "id": "kCeRESsWlhHL"
      }
    },
    {
      "cell_type": "code",
      "source": [
        "def explained_variance_ratio(eigenvalues: List[float], k: int) -> float:\n",
        "    \"\"\"\n",
        "    Вход:\n",
        "    eigenvalues: список собственных значений\n",
        "    k: число компонент\n",
        "    Выход: доля объяснённой дисперсии\n",
        "    \"\"\"\n",
        "    return (sum(eigenvalues[:k])/sum(eigenvalues))"
      ],
      "metadata": {
        "id": "IWTwsmpl6mnx"
      },
      "execution_count": 113,
      "outputs": []
    },
    {
      "cell_type": "markdown",
      "source": [
        "##Hard level"
      ],
      "metadata": {
        "id": "3qEnoPEZ43Cs"
      }
    },
    {
      "cell_type": "markdown",
      "source": [
        "###PCA"
      ],
      "metadata": {
        "id": "ySTeqihY45It"
      }
    },
    {
      "cell_type": "markdown",
      "source": [
        "На этом этапе вышенаписанные функции были объеденины в один метод: pca. Он включает в себя следующие шаги:\n",
        "* Центрируем данные и находим матрицу ковариаций\n",
        "* Далее находим собственные числа матрицы ковариаций. Собственные значения показывают, сколько вариативности объясняет каждая главная компонента\n",
        "* Берём $k$ наибольших значений. Это главные компоненты, которые объясняют наибольшую часть дисперсии данных\n",
        "* Если по условию $k = 0$, то вычисляем его автоматически\n",
        "* Для выбранных собственных чисел находим собственные вектора\n",
        "* Теперь осталось спроецировать наши данные на полученные оси. Создаем матрицу перехода $V_k$\n",
        "* Результатом работы является $X \\cdot V_k$ - это матрица $X$, которая была снижена до размерности $k$, путем выделения главных компонент"
      ],
      "metadata": {
        "id": "YMObsGmqmBIo"
      }
    },
    {
      "cell_type": "code",
      "source": [
        "def pca(X: 'Matrix', k: int)-> tuple['Matrix', float]:\n",
        "    \"\"\"\n",
        "    Вход:\n",
        "    X: матрица данных (n×m)\n",
        "    k: число главных компонент\n",
        "    Выход:\n",
        "    X_proj: проекция данных (n×k)\n",
        "    : доля объяснённой дисперсии\n",
        "    \"\"\"\n",
        "    X_centered = center_data(X)\n",
        "    C = covariance_matrix(X_centered)\n",
        "    eigenvalues = find_eigenvalues(C)\n",
        "    if k == 0:\n",
        "      k = auto_select_k(eigenvalues)\n",
        "    best_k = eigenvalues[-1 * k : ]\n",
        "    eigenvectors = find_eigenvectors(C, best_k)\n",
        "    V_k = [[eigenvectors[j].matrix[i][0] for j in range(k)] for i in range(X.n)]\n",
        "    evr = explained_variance_ratio(eigenvalues, k)\n",
        "\n",
        "    return multiplicative(X, Matrix(V_k, C.n, k)), evr"
      ],
      "metadata": {
        "id": "fiU_e73w-QMd"
      },
      "execution_count": 129,
      "outputs": []
    },
    {
      "cell_type": "markdown",
      "source": [
        "###Визуализация проекции"
      ],
      "metadata": {
        "id": "wwoPo5OD47i3"
      }
    },
    {
      "cell_type": "markdown",
      "source": [
        "Ниже представлена функция для визуализации сжатого датасета. Предполагается, что будет две главные компоненты"
      ],
      "metadata": {
        "id": "lKjxVVOhnyCd"
      }
    },
    {
      "cell_type": "code",
      "source": [
        "import matplotlib.pyplot as plt\n",
        "from matplotlib.figure import Figure\n",
        "def plot_pca_projection(X_proj: 'Matrix')-> Figure:\n",
        "  \"\"\"\n",
        "  Вход: проекция данных X_proj (n×2)\n",
        "  Выход: объект Figure из Matplotlib\n",
        "  \"\"\"\n",
        "  X_proj = T(X_proj)\n",
        "  x = X_proj.matrix[0]\n",
        "  y = X_proj.matrix[1]\n",
        "\n",
        "  fig = plt.figure(figsize =(16, 9))\n",
        "  ax = fig.add_axes([0.1, 0.1, 0.8, 0.8])\n",
        "\n",
        "  ax.scatter(x,y, alpha = 0.7, edgecolors='b', s=40)\n",
        "\n",
        "  fig.suptitle('Проекция данных на две главные компоненты\\n\\n',\n",
        "              fontweight =\"bold\")\n",
        "  plt.xlabel('Principal Component 1')\n",
        "  plt.ylabel('Principal Component 2')\n",
        "  ax.grid(True, linestyle='--', alpha=0.7)\n",
        "  return fig\n"
      ],
      "metadata": {
        "id": "jrwpDqhlTyuU"
      },
      "execution_count": 115,
      "outputs": []
    },
    {
      "cell_type": "markdown",
      "source": [
        "###MSE"
      ],
      "metadata": {
        "id": "LOo58YYd4_ss"
      }
    },
    {
      "cell_type": "markdown",
      "source": [
        "Теперь можно вычислить среднеквадратичную ошибку по формуле:\\\n",
        "$MSE = \\frac{1}{n\\cdot m}\\Sigma_{i, j}(X_{orig} - X_{recon})^2$"
      ],
      "metadata": {
        "id": "nD_vv2vKoE0-"
      }
    },
    {
      "cell_type": "code",
      "source": [
        "def reconstruction_error(X_orig:'Matrix', X_recon:'Matrix') -> float:\n",
        "    \"\"\"\n",
        "    Вход:\n",
        "    X_orig: исходные данные (n×m)\n",
        "    X_recon: восстановленные данные (n×m)\n",
        "    Выход: среднеквадратическая ошибка MSE\n",
        "    \"\"\"\n",
        "    const = 1/(X_recon.m * X_recon.n)\n",
        "    sum = 0\n",
        "    for i in range(X_orig.m):\n",
        "        for j in range(X_orig.n):\n",
        "            sum += (X_orig.matrix[i][j] - X_recon.matrix[i][j])**2\n",
        "    return const*sum\n"
      ],
      "metadata": {
        "id": "hJN3sfpQJdFm"
      },
      "execution_count": 116,
      "outputs": []
    },
    {
      "cell_type": "markdown",
      "source": [
        "##Expert level"
      ],
      "metadata": {
        "id": "mXFgHHHz5DSV"
      }
    },
    {
      "cell_type": "markdown",
      "source": [
        "###Выбор числа главных компонент"
      ],
      "metadata": {
        "id": "ZOb0Ne5j5Fid"
      }
    },
    {
      "cell_type": "markdown",
      "source": [
        "$k = min(k: \\frac{Σ_{i=1}^k \\lambda_i}{Σ_{i=m}^k \\lambda_i})$"
      ],
      "metadata": {
        "id": "pCxmRi1MykBe"
      }
    },
    {
      "cell_type": "code",
      "source": [
        "def auto_select_k(eigenvalues: List[float], threshold: float = 0.95) -> int:\n",
        "    \"\"\"\n",
        "    Вход:\n",
        "    eigenvalues: список собственных значений\n",
        "    threshold: порог объяснённой дисперсии\n",
        "    Выход: оптимальное число главных компонент k\n",
        "    \"\"\"\n",
        "    sumM = sum(eigenvalues)\n",
        "    sumK = 0\n",
        "    for k in range(len(eigenvalues)):\n",
        "        sumK += eigenvalues[k]\n",
        "        if (sumK / sumM) >= threshold:\n",
        "            return k"
      ],
      "metadata": {
        "id": "aKbHZBMK-GAq"
      },
      "execution_count": 117,
      "outputs": []
    },
    {
      "cell_type": "markdown",
      "source": [
        "###Обработка пропущенных значений"
      ],
      "metadata": {
        "id": "AK55JWIj5Kv6"
      }
    },
    {
      "cell_type": "markdown",
      "source": [
        "Если в датасете будут пустые значения, это негативно скажется на работе функций. Поэтому пропущенные значения в каждом столбце будут заменены на среднее значение"
      ],
      "metadata": {
        "id": "pQu69YsjzHua"
      }
    },
    {
      "cell_type": "code",
      "source": [
        "def handle_missing_values(X:'Matrix') ->'Matrix':\n",
        "    \"\"\"\n",
        "    Вход: матрица данных X (n×m) с возможными NaN\n",
        "    Выход: матрица данных X_filled (n×m) без NaN\n",
        "    \"\"\"\n",
        "    mean_vector = []\n",
        "    for i in range(X.n):\n",
        "        avg = 0\n",
        "        k = 0\n",
        "        for j in range(X.m):\n",
        "            if (not math.isnan(X.matrix[j][i])):\n",
        "                avg += X.matrix[j][i]\n",
        "                k+=1\n",
        "        mean_vector.append(avg / k ) if k > 0 else 0.0\n",
        "    for i in range(X.m):\n",
        "        for j in range(X.n):\n",
        "            if math.isnan(X.matrix[i][j]):\n",
        "                X.matrix[i][j] = mean_vector[j]\n",
        "    return X"
      ],
      "metadata": {
        "id": "9hsWCL_n9rIk"
      },
      "execution_count": 118,
      "outputs": []
    },
    {
      "cell_type": "markdown",
      "source": [
        "###Влияние шума на PCA"
      ],
      "metadata": {
        "id": "ooQ_sPOb5P9A"
      }
    },
    {
      "cell_type": "markdown",
      "source": [
        "Сначала была реализована функция для добавления шума к данным:"
      ],
      "metadata": {
        "id": "uX88dfDc1-h2"
      }
    },
    {
      "cell_type": "code",
      "source": [
        "import random\n",
        "def add_noise_and_compare(X: 'Matrix', noise_level: float = 0.1) -> dict:\n",
        "    \"\"\"\n",
        "    Вход:\n",
        "    X: матрица данных (n×m)\n",
        "    noise_level: уровень шума (доля от стандартного отклонения)\n",
        "    Выход: словарь с результатами PCA до и после добавления шума.\n",
        "    \"\"\"\n",
        "    m, n = X.m, X.n\n",
        "\n",
        "    # Вычисление стандартного отклонения для каждого признака\n",
        "    stds = []\n",
        "    for j in range(n):\n",
        "        feature = [X.matrix[i][j] for i in range(m)]\n",
        "        mean = sum(feature) / m\n",
        "        variance = sum((x - mean) ** 2 for x in feature) / m\n",
        "        std = math.sqrt(variance)\n",
        "        stds.append(std)\n",
        "\n",
        "    # Генерация зашумленной матрицы\n",
        "    noisy_data = []\n",
        "    for i in range(m):\n",
        "        row = [\n",
        "            X.matrix[i][j] + random.gauss(0, stds[j] * noise_level)\n",
        "            for j in range(n)\n",
        "        ]\n",
        "        noisy_data.append(row)\n",
        "    X_noisy = Matrix(noisy_data, m, n)\n",
        "    return X_noisy\n"
      ],
      "metadata": {
        "id": "5XWt_Rjb1-EQ"
      },
      "execution_count": 154,
      "outputs": []
    },
    {
      "cell_type": "markdown",
      "source": [
        "###Использование PCA на реальном датасете"
      ],
      "metadata": {
        "id": "_tinORqo5TNv"
      }
    },
    {
      "cell_type": "code",
      "source": [
        "import pandas as pd\n",
        "\n",
        "def apply_pca_to_dataset(dataset_name: str, k: int)-> Tuple['Matrix', float]:\n",
        "  \"\"\"\n",
        "  Вход:\n",
        "  dataset_name: название датасета\n",
        "  k: число главных компонент\n",
        "  Выход: кортеж (проекция данных, качество модели)\n",
        "  \"\"\"\n",
        "  df = pd.read_csv(dataset_name)\n",
        "  matrix = []\n",
        "  for i in range(len(df)):\n",
        "      row = []\n",
        "      for j in range(0,len(df.iloc[0])):\n",
        "          row.append(float(df.iloc[i].iloc[j]))\n",
        "      matrix.append(row)\n",
        "  matrix.append(row)\n",
        "\n",
        "  t = Matrix(matrix,len(matrix),len(matrix[0]))\n",
        "  C,e = pca(t,k)\n",
        "  return C, e\n",
        "\n",
        "\n",
        "\n",
        "C, e = apply_pca_to_dataset('/content/drive/MyDrive/BostonHousing.csv', 2)\n",
        "print(C.matrix)\n",
        "\n",
        "\n",
        "fig = plot_pca_projection(C)\n",
        "plt.show()\n"
      ],
      "metadata": {
        "colab": {
          "base_uri": "https://localhost:8080/",
          "height": 909
        },
        "id": "3_CPcFUFkKSB",
        "outputId": "264acea7-d54b-40e9-9f7c-b382488253e0"
      },
      "execution_count": 153,
      "outputs": [
        {
          "output_type": "stream",
          "name": "stdout",
          "text": [
            "[[0.00632, 18.0], [0.02731, 0.0], [0.02729, 0.0], [0.03237, 0.0], [0.06905, 0.0], [0.02985, 0.0], [0.08829, 12.5], [0.14455, 12.5], [0.21124, 12.5], [0.17004, 12.5], [nan, nan], [0.11747, 12.5], [0.09378, 12.5], [0.62976, 0.0], [0.63796, 0.0], [0.62739, 0.0], [1.05393, 0.0], [0.7842, 0.0], [0.80271, 0.0], [0.7258, 0.0], [1.25179, 0.0], [0.85204, 0.0], [1.23247, 0.0], [0.98843, 0.0], [0.75026, 0.0], [0.84054, 0.0], [0.67191, 0.0], [0.95577, 0.0], [0.77299, 0.0], [1.00245, 0.0], [1.13081, 0.0], [1.35472, 0.0], [1.38799, 0.0], [1.15172, 0.0], [1.61282, 0.0], [nan, nan], [0.09744, 0.0], [0.08014, 0.0], [0.17505, 0.0], [0.02763, 75.0], [0.03359, 75.0], [0.12744, 0.0], [0.1415, 0.0], [0.15936, 0.0], [0.12269, 0.0], [0.17142, 0.0], [0.18836, 0.0], [0.22927, 0.0], [0.25387, 0.0], [0.21977, 0.0], [0.08873, 21.0], [0.04337, 21.0], [0.0536, 21.0], [0.04981, 21.0], [0.0136, 75.0], [0.01311, 90.0], [0.02055, 85.0], [0.01432, 100.0], [0.15445, 25.0], [0.10328, 25.0], [0.14932, 25.0], [0.17171, 25.0], [0.11027, 25.0], [nan, nan], [0.01951, 17.5], [0.03584, 80.0], [0.04379, 80.0], [0.05789, 12.5], [0.13554, 12.5], [0.12816, 12.5], [0.08826, 0.0], [0.15876, 0.0], [0.09164, 0.0], [0.19539, 0.0], [0.07896, 0.0], [0.09512, 0.0], [0.10153, 0.0], [0.08707, 0.0], [0.05646, 0.0], [0.08387, 0.0], [0.04113, 25.0], [0.04462, 25.0], [0.03659, 25.0], [0.03551, 25.0], [0.05059, 0.0], [0.05735, 0.0], [0.05188, 0.0], [0.07151, 0.0], [0.0566, 0.0], [0.05302, 0.0], [0.04684, 0.0], [0.03932, 0.0], [0.04203, 28.0], [0.02875, 28.0], [0.04294, 28.0], [0.12204, 0.0], [nan, nan], [0.12083, 0.0], [0.08187, 0.0], [0.0686, 0.0], [0.14866, 0.0], [0.11432, 0.0], [0.22876, 0.0], [0.21161, 0.0], [0.1396, 0.0], [0.13262, 0.0], [0.1712, 0.0], [0.13117, 0.0], [0.12802, 0.0], [0.26363, 0.0], [0.10793, 0.0], [0.10084, 0.0], [0.12329, 0.0], [0.22212, 0.0], [0.14231, 0.0], [0.17134, 0.0], [0.13158, 0.0], [0.15098, 0.0], [0.13058, 0.0], [0.14476, 0.0], [0.06899, 0.0], [0.07165, 0.0], [0.09299, 0.0], [0.15038, 0.0], [0.09849, 0.0], [0.16902, 0.0], [0.38735, 0.0], [0.25915, 0.0], [0.32543, 0.0], [0.88125, 0.0], [0.34006, 0.0], [1.19294, 0.0], [0.59005, 0.0], [0.32982, 0.0], [0.97617, 0.0], [nan, nan], [0.32264, 0.0], [0.35233, 0.0], [0.2498, 0.0], [0.54452, 0.0], [0.2909, 0.0], [1.62864, 0.0], [3.32105, 0.0], [4.0974, 0.0], [2.77974, 0.0], [2.37934, 0.0], [2.15505, 0.0], [2.36862, 0.0], [2.33099, 0.0], [2.73397, 0.0], [2.73397, 0.0]]\n"
          ]
        },
        {
          "output_type": "display_data",
          "data": {
            "text/plain": [
              "<Figure size 1600x900 with 1 Axes>"
            ],
            "image/png": "[encoded data removed]"
          },
          "metadata": {}
        }
      ]
    },
    {
      "cell_type": "code",
      "source": [
        "#Анализ примеенения РСА к данныи с шумом\n",
        "#df = pd.read_csv('/content/drive/MyDrive/BostonHousing.csv')\n",
        "df = pd.read_csv('/content/drive/MyDrive/BostonHousing.csv')\n",
        "matrix = []\n",
        "for i in range(len(df)):\n",
        "    row = []\n",
        "    for j in range(0,len(df.iloc[0])):\n",
        "        row.append(float(df.iloc[i].iloc[j]))\n",
        "    matrix.append(row)\n",
        "matrix.append(row)\n",
        "\n",
        "t = Matrix(matrix,len(matrix),len(matrix[0]))\n",
        "t_noise = add_noise_and_compare(t)\n",
        "C_noise,e_noise = pca(t_noise,2)\n",
        "\n",
        "print(C_noise.matrix)\n",
        "\n",
        "\n",
        "fig = plot_pca_projection(C_noise)\n",
        "plt.show()\n"
      ],
      "metadata": {
        "colab": {
          "base_uri": "https://localhost:8080/",
          "height": 909
        },
        "id": "UReucRR_2mew",
        "outputId": "eb078fb2-32c3-4ee3-e1a1-44a6ecc814d6"
      },
      "execution_count": 155,
      "outputs": [
        {
          "output_type": "stream",
          "name": "stdout",
          "text": [
            "[[nan, nan], [nan, nan], [nan, nan], [nan, nan], [nan, nan], [nan, nan], [nan, nan], [nan, nan], [nan, nan], [nan, nan], [nan, nan], [nan, nan], [nan, nan], [nan, nan], [nan, nan], [nan, nan], [nan, nan], [nan, nan], [nan, nan], [nan, nan], [nan, nan], [nan, nan], [nan, nan], [nan, nan], [nan, nan], [nan, nan], [nan, nan], [nan, nan], [nan, nan], [nan, nan], [nan, nan], [nan, nan], [nan, nan], [nan, nan], [nan, nan], [nan, nan], [nan, nan], [nan, nan], [nan, nan], [nan, nan], [nan, nan], [nan, nan], [nan, nan], [nan, nan], [nan, nan], [nan, nan], [nan, nan], [nan, nan], [nan, nan], [nan, nan], [nan, nan], [nan, nan], [nan, nan], [nan, nan], [nan, nan], [nan, nan], [nan, nan], [nan, nan], [nan, nan], [nan, nan], [nan, nan], [nan, nan], [nan, nan], [nan, nan], [nan, nan], [nan, nan], [nan, nan], [nan, nan], [nan, nan], [nan, nan], [nan, nan], [nan, nan], [nan, nan], [nan, nan], [nan, nan], [nan, nan], [nan, nan], [nan, nan], [nan, nan], [nan, nan], [nan, nan], [nan, nan], [nan, nan], [nan, nan], [nan, nan], [nan, nan], [nan, nan], [nan, nan], [nan, nan], [nan, nan], [nan, nan], [nan, nan], [nan, nan], [nan, nan], [nan, nan], [nan, nan], [nan, nan], [nan, nan], [nan, nan], [nan, nan], [nan, nan], [nan, nan], [nan, nan], [nan, nan], [nan, nan], [nan, nan], [nan, nan], [nan, nan], [nan, nan], [nan, nan], [nan, nan], [nan, nan], [nan, nan], [nan, nan], [nan, nan], [nan, nan], [nan, nan], [nan, nan], [nan, nan], [nan, nan], [nan, nan], [nan, nan], [nan, nan], [nan, nan], [nan, nan], [nan, nan], [nan, nan], [nan, nan], [nan, nan], [nan, nan], [nan, nan], [nan, nan], [nan, nan], [nan, nan], [nan, nan], [nan, nan], [nan, nan], [nan, nan], [nan, nan], [nan, nan], [nan, nan], [nan, nan], [nan, nan], [nan, nan], [nan, nan], [nan, nan], [nan, nan], [nan, nan], [nan, nan], [nan, nan], [nan, nan]]\n"
          ]
        },
        {
          "output_type": "display_data",
          "data": {
            "text/plain": [
              "<Figure size 1600x900 with 1 Axes>"
            ],
            "image/png": "[encoded data removed]"
          },
          "metadata": {}
        }
      ]
    }
  ]
}